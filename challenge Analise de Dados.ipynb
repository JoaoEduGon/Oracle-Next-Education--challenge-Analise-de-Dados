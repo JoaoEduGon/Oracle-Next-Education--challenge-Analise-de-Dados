{
  "nbformat": 4,
  "nbformat_minor": 0,
  "metadata": {
    "colab": {
      "provenance": []
    },
    "kernelspec": {
      "name": "python3",
      "display_name": "Python 3"
    },
    "language_info": {
      "name": "python"
    }
  },
  "cells": [
    {
      "cell_type": "markdown",
      "source": [
        "### Importação dos dados\n",
        "\n"
      ],
      "metadata": {
        "id": "RhEdWd9YUR6H"
      }
    },
    {
      "cell_type": "code",
      "execution_count": 52,
      "metadata": {
        "colab": {
          "base_uri": "https://localhost:8080/",
          "height": 424
        },
        "id": "T3EvaeQ_INIL",
        "outputId": "fcc5614e-0360-4b7a-ed58-8a9de717d136"
      },
      "outputs": [
        {
          "output_type": "execute_result",
          "data": {
            "text/plain": [
              "                    Produto   Categoria do Produto    Preço      Frete  \\\n",
              "0        Assistente virtual            eletronicos   219.08   9.249790   \n",
              "1            Mesa de jantar                 moveis   256.35  11.234305   \n",
              "2         Jogo de tabuleiro             brinquedos   279.51  21.262681   \n",
              "3               Micro-ondas       eletrodomesticos  1009.99  54.667344   \n",
              "4     Cadeira de escritório                 moveis   446.99  26.964689   \n",
              "...                     ...                    ...      ...        ...   \n",
              "2352          Kit banquetas                 moveis   392.52  18.484948   \n",
              "2353         Mesa de jantar                 moveis   303.60  16.852799   \n",
              "2354  Cadeira de escritório                 moveis   456.02  24.812798   \n",
              "2355           Copo térmico        esporte e lazer    48.99   3.139675   \n",
              "2356        Jogo de panelas  utilidades domesticas   202.45  11.062979   \n",
              "\n",
              "     Data da Compra        Vendedor Local da compra  Avaliação da compra  \\\n",
              "0        16/01/2021     Pedro Gomes              SP                    4   \n",
              "1        18/05/2022  Beatriz Moraes              RJ                    1   \n",
              "2        15/03/2021      João Souza              DF                    1   \n",
              "3        03/05/2022      João Souza              RS                    4   \n",
              "4        07/11/2020   Larissa Alves              MG                    5   \n",
              "...             ...             ...             ...                  ...   \n",
              "2352     09/06/2021  Beatriz Moraes              RJ                    1   \n",
              "2353     12/02/2020  Camila Ribeiro              RJ                    5   \n",
              "2354     17/05/2022   Felipe Santos              PE                    5   \n",
              "2355     03/05/2022  Camila Ribeiro              SP                    5   \n",
              "2356     15/06/2020   Bianca Santos              PR                    5   \n",
              "\n",
              "     Tipo de pagamento  Quantidade de parcelas    lat    lon    Loja  \n",
              "0       cartao_credito                       8 -22.19 -48.79  loja 1  \n",
              "1       cartao_credito                       4 -22.25 -42.66  loja 1  \n",
              "2       cartao_credito                       1 -15.83 -47.86  loja 1  \n",
              "3               boleto                       1 -30.17 -53.50  loja 1  \n",
              "4               boleto                       1 -18.10 -44.38  loja 1  \n",
              "...                ...                     ...    ...    ...     ...  \n",
              "2352    cartao_credito                       6 -22.25 -42.66  loja 4  \n",
              "2353    cartao_credito                       1 -22.25 -42.66  loja 4  \n",
              "2354    cartao_credito                       3  -8.38 -37.86  loja 4  \n",
              "2355    cartao_credito                       1 -22.19 -48.79  loja 4  \n",
              "2356    cartao_credito                       1 -24.89 -51.55  loja 4  \n",
              "\n",
              "[9434 rows x 13 columns]"
            ],
            "text/html": [
              "\n",
              "  <div id=\"df-0444d1ec-99d3-48e8-90aa-50768d71a815\" class=\"colab-df-container\">\n",
              "    <div>\n",
              "<style scoped>\n",
              "    .dataframe tbody tr th:only-of-type {\n",
              "        vertical-align: middle;\n",
              "    }\n",
              "\n",
              "    .dataframe tbody tr th {\n",
              "        vertical-align: top;\n",
              "    }\n",
              "\n",
              "    .dataframe thead th {\n",
              "        text-align: right;\n",
              "    }\n",
              "</style>\n",
              "<table border=\"1\" class=\"dataframe\">\n",
              "  <thead>\n",
              "    <tr style=\"text-align: right;\">\n",
              "      <th></th>\n",
              "      <th>Produto</th>\n",
              "      <th>Categoria do Produto</th>\n",
              "      <th>Preço</th>\n",
              "      <th>Frete</th>\n",
              "      <th>Data da Compra</th>\n",
              "      <th>Vendedor</th>\n",
              "      <th>Local da compra</th>\n",
              "      <th>Avaliação da compra</th>\n",
              "      <th>Tipo de pagamento</th>\n",
              "      <th>Quantidade de parcelas</th>\n",
              "      <th>lat</th>\n",
              "      <th>lon</th>\n",
              "      <th>Loja</th>\n",
              "    </tr>\n",
              "  </thead>\n",
              "  <tbody>\n",
              "    <tr>\n",
              "      <th>0</th>\n",
              "      <td>Assistente virtual</td>\n",
              "      <td>eletronicos</td>\n",
              "      <td>219.08</td>\n",
              "      <td>9.249790</td>\n",
              "      <td>16/01/2021</td>\n",
              "      <td>Pedro Gomes</td>\n",
              "      <td>SP</td>\n",
              "      <td>4</td>\n",
              "      <td>cartao_credito</td>\n",
              "      <td>8</td>\n",
              "      <td>-22.19</td>\n",
              "      <td>-48.79</td>\n",
              "      <td>loja 1</td>\n",
              "    </tr>\n",
              "    <tr>\n",
              "      <th>1</th>\n",
              "      <td>Mesa de jantar</td>\n",
              "      <td>moveis</td>\n",
              "      <td>256.35</td>\n",
              "      <td>11.234305</td>\n",
              "      <td>18/05/2022</td>\n",
              "      <td>Beatriz Moraes</td>\n",
              "      <td>RJ</td>\n",
              "      <td>1</td>\n",
              "      <td>cartao_credito</td>\n",
              "      <td>4</td>\n",
              "      <td>-22.25</td>\n",
              "      <td>-42.66</td>\n",
              "      <td>loja 1</td>\n",
              "    </tr>\n",
              "    <tr>\n",
              "      <th>2</th>\n",
              "      <td>Jogo de tabuleiro</td>\n",
              "      <td>brinquedos</td>\n",
              "      <td>279.51</td>\n",
              "      <td>21.262681</td>\n",
              "      <td>15/03/2021</td>\n",
              "      <td>João Souza</td>\n",
              "      <td>DF</td>\n",
              "      <td>1</td>\n",
              "      <td>cartao_credito</td>\n",
              "      <td>1</td>\n",
              "      <td>-15.83</td>\n",
              "      <td>-47.86</td>\n",
              "      <td>loja 1</td>\n",
              "    </tr>\n",
              "    <tr>\n",
              "      <th>3</th>\n",
              "      <td>Micro-ondas</td>\n",
              "      <td>eletrodomesticos</td>\n",
              "      <td>1009.99</td>\n",
              "      <td>54.667344</td>\n",
              "      <td>03/05/2022</td>\n",
              "      <td>João Souza</td>\n",
              "      <td>RS</td>\n",
              "      <td>4</td>\n",
              "      <td>boleto</td>\n",
              "      <td>1</td>\n",
              "      <td>-30.17</td>\n",
              "      <td>-53.50</td>\n",
              "      <td>loja 1</td>\n",
              "    </tr>\n",
              "    <tr>\n",
              "      <th>4</th>\n",
              "      <td>Cadeira de escritório</td>\n",
              "      <td>moveis</td>\n",
              "      <td>446.99</td>\n",
              "      <td>26.964689</td>\n",
              "      <td>07/11/2020</td>\n",
              "      <td>Larissa Alves</td>\n",
              "      <td>MG</td>\n",
              "      <td>5</td>\n",
              "      <td>boleto</td>\n",
              "      <td>1</td>\n",
              "      <td>-18.10</td>\n",
              "      <td>-44.38</td>\n",
              "      <td>loja 1</td>\n",
              "    </tr>\n",
              "    <tr>\n",
              "      <th>...</th>\n",
              "      <td>...</td>\n",
              "      <td>...</td>\n",
              "      <td>...</td>\n",
              "      <td>...</td>\n",
              "      <td>...</td>\n",
              "      <td>...</td>\n",
              "      <td>...</td>\n",
              "      <td>...</td>\n",
              "      <td>...</td>\n",
              "      <td>...</td>\n",
              "      <td>...</td>\n",
              "      <td>...</td>\n",
              "      <td>...</td>\n",
              "    </tr>\n",
              "    <tr>\n",
              "      <th>2352</th>\n",
              "      <td>Kit banquetas</td>\n",
              "      <td>moveis</td>\n",
              "      <td>392.52</td>\n",
              "      <td>18.484948</td>\n",
              "      <td>09/06/2021</td>\n",
              "      <td>Beatriz Moraes</td>\n",
              "      <td>RJ</td>\n",
              "      <td>1</td>\n",
              "      <td>cartao_credito</td>\n",
              "      <td>6</td>\n",
              "      <td>-22.25</td>\n",
              "      <td>-42.66</td>\n",
              "      <td>loja 4</td>\n",
              "    </tr>\n",
              "    <tr>\n",
              "      <th>2353</th>\n",
              "      <td>Mesa de jantar</td>\n",
              "      <td>moveis</td>\n",
              "      <td>303.60</td>\n",
              "      <td>16.852799</td>\n",
              "      <td>12/02/2020</td>\n",
              "      <td>Camila Ribeiro</td>\n",
              "      <td>RJ</td>\n",
              "      <td>5</td>\n",
              "      <td>cartao_credito</td>\n",
              "      <td>1</td>\n",
              "      <td>-22.25</td>\n",
              "      <td>-42.66</td>\n",
              "      <td>loja 4</td>\n",
              "    </tr>\n",
              "    <tr>\n",
              "      <th>2354</th>\n",
              "      <td>Cadeira de escritório</td>\n",
              "      <td>moveis</td>\n",
              "      <td>456.02</td>\n",
              "      <td>24.812798</td>\n",
              "      <td>17/05/2022</td>\n",
              "      <td>Felipe Santos</td>\n",
              "      <td>PE</td>\n",
              "      <td>5</td>\n",
              "      <td>cartao_credito</td>\n",
              "      <td>3</td>\n",
              "      <td>-8.38</td>\n",
              "      <td>-37.86</td>\n",
              "      <td>loja 4</td>\n",
              "    </tr>\n",
              "    <tr>\n",
              "      <th>2355</th>\n",
              "      <td>Copo térmico</td>\n",
              "      <td>esporte e lazer</td>\n",
              "      <td>48.99</td>\n",
              "      <td>3.139675</td>\n",
              "      <td>03/05/2022</td>\n",
              "      <td>Camila Ribeiro</td>\n",
              "      <td>SP</td>\n",
              "      <td>5</td>\n",
              "      <td>cartao_credito</td>\n",
              "      <td>1</td>\n",
              "      <td>-22.19</td>\n",
              "      <td>-48.79</td>\n",
              "      <td>loja 4</td>\n",
              "    </tr>\n",
              "    <tr>\n",
              "      <th>2356</th>\n",
              "      <td>Jogo de panelas</td>\n",
              "      <td>utilidades domesticas</td>\n",
              "      <td>202.45</td>\n",
              "      <td>11.062979</td>\n",
              "      <td>15/06/2020</td>\n",
              "      <td>Bianca Santos</td>\n",
              "      <td>PR</td>\n",
              "      <td>5</td>\n",
              "      <td>cartao_credito</td>\n",
              "      <td>1</td>\n",
              "      <td>-24.89</td>\n",
              "      <td>-51.55</td>\n",
              "      <td>loja 4</td>\n",
              "    </tr>\n",
              "  </tbody>\n",
              "</table>\n",
              "<p>9434 rows × 13 columns</p>\n",
              "</div>\n",
              "    <div class=\"colab-df-buttons\">\n",
              "\n",
              "  <div class=\"colab-df-container\">\n",
              "    <button class=\"colab-df-convert\" onclick=\"convertToInteractive('df-0444d1ec-99d3-48e8-90aa-50768d71a815')\"\n",
              "            title=\"Convert this dataframe to an interactive table.\"\n",
              "            style=\"display:none;\">\n",
              "\n",
              "  <svg xmlns=\"http://www.w3.org/2000/svg\" height=\"24px\" viewBox=\"0 -960 960 960\">\n",
              "    <path d=\"M120-120v-720h720v720H120Zm60-500h600v-160H180v160Zm220 220h160v-160H400v160Zm0 220h160v-160H400v160ZM180-400h160v-160H180v160Zm440 0h160v-160H620v160ZM180-180h160v-160H180v160Zm440 0h160v-160H620v160Z\"/>\n",
              "  </svg>\n",
              "    </button>\n",
              "\n",
              "  <style>\n",
              "    .colab-df-container {\n",
              "      display:flex;\n",
              "      gap: 12px;\n",
              "    }\n",
              "\n",
              "    .colab-df-convert {\n",
              "      background-color: #E8F0FE;\n",
              "      border: none;\n",
              "      border-radius: 50%;\n",
              "      cursor: pointer;\n",
              "      display: none;\n",
              "      fill: #1967D2;\n",
              "      height: 32px;\n",
              "      padding: 0 0 0 0;\n",
              "      width: 32px;\n",
              "    }\n",
              "\n",
              "    .colab-df-convert:hover {\n",
              "      background-color: #E2EBFA;\n",
              "      box-shadow: 0px 1px 2px rgba(60, 64, 67, 0.3), 0px 1px 3px 1px rgba(60, 64, 67, 0.15);\n",
              "      fill: #174EA6;\n",
              "    }\n",
              "\n",
              "    .colab-df-buttons div {\n",
              "      margin-bottom: 4px;\n",
              "    }\n",
              "\n",
              "    [theme=dark] .colab-df-convert {\n",
              "      background-color: #3B4455;\n",
              "      fill: #D2E3FC;\n",
              "    }\n",
              "\n",
              "    [theme=dark] .colab-df-convert:hover {\n",
              "      background-color: #434B5C;\n",
              "      box-shadow: 0px 1px 3px 1px rgba(0, 0, 0, 0.15);\n",
              "      filter: drop-shadow(0px 1px 2px rgba(0, 0, 0, 0.3));\n",
              "      fill: #FFFFFF;\n",
              "    }\n",
              "  </style>\n",
              "\n",
              "    <script>\n",
              "      const buttonEl =\n",
              "        document.querySelector('#df-0444d1ec-99d3-48e8-90aa-50768d71a815 button.colab-df-convert');\n",
              "      buttonEl.style.display =\n",
              "        google.colab.kernel.accessAllowed ? 'block' : 'none';\n",
              "\n",
              "      async function convertToInteractive(key) {\n",
              "        const element = document.querySelector('#df-0444d1ec-99d3-48e8-90aa-50768d71a815');\n",
              "        const dataTable =\n",
              "          await google.colab.kernel.invokeFunction('convertToInteractive',\n",
              "                                                    [key], {});\n",
              "        if (!dataTable) return;\n",
              "\n",
              "        const docLinkHtml = 'Like what you see? Visit the ' +\n",
              "          '<a target=\"_blank\" href=https://colab.research.google.com/notebooks/data_table.ipynb>data table notebook</a>'\n",
              "          + ' to learn more about interactive tables.';\n",
              "        element.innerHTML = '';\n",
              "        dataTable['output_type'] = 'display_data';\n",
              "        await google.colab.output.renderOutput(dataTable, element);\n",
              "        const docLink = document.createElement('div');\n",
              "        docLink.innerHTML = docLinkHtml;\n",
              "        element.appendChild(docLink);\n",
              "      }\n",
              "    </script>\n",
              "  </div>\n",
              "\n",
              "\n",
              "    <div id=\"df-fe5795b6-9c79-4f36-9db8-4b90483648cf\">\n",
              "      <button class=\"colab-df-quickchart\" onclick=\"quickchart('df-fe5795b6-9c79-4f36-9db8-4b90483648cf')\"\n",
              "                title=\"Suggest charts\"\n",
              "                style=\"display:none;\">\n",
              "\n",
              "<svg xmlns=\"http://www.w3.org/2000/svg\" height=\"24px\"viewBox=\"0 0 24 24\"\n",
              "     width=\"24px\">\n",
              "    <g>\n",
              "        <path d=\"M19 3H5c-1.1 0-2 .9-2 2v14c0 1.1.9 2 2 2h14c1.1 0 2-.9 2-2V5c0-1.1-.9-2-2-2zM9 17H7v-7h2v7zm4 0h-2V7h2v10zm4 0h-2v-4h2v4z\"/>\n",
              "    </g>\n",
              "</svg>\n",
              "      </button>\n",
              "\n",
              "<style>\n",
              "  .colab-df-quickchart {\n",
              "      --bg-color: #E8F0FE;\n",
              "      --fill-color: #1967D2;\n",
              "      --hover-bg-color: #E2EBFA;\n",
              "      --hover-fill-color: #174EA6;\n",
              "      --disabled-fill-color: #AAA;\n",
              "      --disabled-bg-color: #DDD;\n",
              "  }\n",
              "\n",
              "  [theme=dark] .colab-df-quickchart {\n",
              "      --bg-color: #3B4455;\n",
              "      --fill-color: #D2E3FC;\n",
              "      --hover-bg-color: #434B5C;\n",
              "      --hover-fill-color: #FFFFFF;\n",
              "      --disabled-bg-color: #3B4455;\n",
              "      --disabled-fill-color: #666;\n",
              "  }\n",
              "\n",
              "  .colab-df-quickchart {\n",
              "    background-color: var(--bg-color);\n",
              "    border: none;\n",
              "    border-radius: 50%;\n",
              "    cursor: pointer;\n",
              "    display: none;\n",
              "    fill: var(--fill-color);\n",
              "    height: 32px;\n",
              "    padding: 0;\n",
              "    width: 32px;\n",
              "  }\n",
              "\n",
              "  .colab-df-quickchart:hover {\n",
              "    background-color: var(--hover-bg-color);\n",
              "    box-shadow: 0 1px 2px rgba(60, 64, 67, 0.3), 0 1px 3px 1px rgba(60, 64, 67, 0.15);\n",
              "    fill: var(--button-hover-fill-color);\n",
              "  }\n",
              "\n",
              "  .colab-df-quickchart-complete:disabled,\n",
              "  .colab-df-quickchart-complete:disabled:hover {\n",
              "    background-color: var(--disabled-bg-color);\n",
              "    fill: var(--disabled-fill-color);\n",
              "    box-shadow: none;\n",
              "  }\n",
              "\n",
              "  .colab-df-spinner {\n",
              "    border: 2px solid var(--fill-color);\n",
              "    border-color: transparent;\n",
              "    border-bottom-color: var(--fill-color);\n",
              "    animation:\n",
              "      spin 1s steps(1) infinite;\n",
              "  }\n",
              "\n",
              "  @keyframes spin {\n",
              "    0% {\n",
              "      border-color: transparent;\n",
              "      border-bottom-color: var(--fill-color);\n",
              "      border-left-color: var(--fill-color);\n",
              "    }\n",
              "    20% {\n",
              "      border-color: transparent;\n",
              "      border-left-color: var(--fill-color);\n",
              "      border-top-color: var(--fill-color);\n",
              "    }\n",
              "    30% {\n",
              "      border-color: transparent;\n",
              "      border-left-color: var(--fill-color);\n",
              "      border-top-color: var(--fill-color);\n",
              "      border-right-color: var(--fill-color);\n",
              "    }\n",
              "    40% {\n",
              "      border-color: transparent;\n",
              "      border-right-color: var(--fill-color);\n",
              "      border-top-color: var(--fill-color);\n",
              "    }\n",
              "    60% {\n",
              "      border-color: transparent;\n",
              "      border-right-color: var(--fill-color);\n",
              "    }\n",
              "    80% {\n",
              "      border-color: transparent;\n",
              "      border-right-color: var(--fill-color);\n",
              "      border-bottom-color: var(--fill-color);\n",
              "    }\n",
              "    90% {\n",
              "      border-color: transparent;\n",
              "      border-bottom-color: var(--fill-color);\n",
              "    }\n",
              "  }\n",
              "</style>\n",
              "\n",
              "      <script>\n",
              "        async function quickchart(key) {\n",
              "          const quickchartButtonEl =\n",
              "            document.querySelector('#' + key + ' button');\n",
              "          quickchartButtonEl.disabled = true;  // To prevent multiple clicks.\n",
              "          quickchartButtonEl.classList.add('colab-df-spinner');\n",
              "          try {\n",
              "            const charts = await google.colab.kernel.invokeFunction(\n",
              "                'suggestCharts', [key], {});\n",
              "          } catch (error) {\n",
              "            console.error('Error during call to suggestCharts:', error);\n",
              "          }\n",
              "          quickchartButtonEl.classList.remove('colab-df-spinner');\n",
              "          quickchartButtonEl.classList.add('colab-df-quickchart-complete');\n",
              "        }\n",
              "        (() => {\n",
              "          let quickchartButtonEl =\n",
              "            document.querySelector('#df-fe5795b6-9c79-4f36-9db8-4b90483648cf button');\n",
              "          quickchartButtonEl.style.display =\n",
              "            google.colab.kernel.accessAllowed ? 'block' : 'none';\n",
              "        })();\n",
              "      </script>\n",
              "    </div>\n",
              "\n",
              "    </div>\n",
              "  </div>\n"
            ],
            "application/vnd.google.colaboratory.intrinsic+json": {
              "type": "dataframe",
              "variable_name": "lojas",
              "summary": "{\n  \"name\": \"lojas\",\n  \"rows\": 9435,\n  \"fields\": [\n    {\n      \"column\": \"Produto\",\n      \"properties\": {\n        \"dtype\": \"category\",\n        \"num_unique_values\": 51,\n        \"samples\": [\n          \"Viol\\u00e3o\",\n          \"Bola de basquete\",\n          \"Smartwatch\"\n        ],\n        \"semantic_type\": \"\",\n        \"description\": \"\"\n      }\n    },\n    {\n      \"column\": \"Categoria do Produto\",\n      \"properties\": {\n        \"dtype\": \"category\",\n        \"num_unique_values\": 8,\n        \"samples\": [\n          \"moveis\",\n          \"esporte e lazer\",\n          \"eletronicos\"\n        ],\n        \"semantic_type\": \"\",\n        \"description\": \"\"\n      }\n    },\n    {\n      \"column\": \"Pre\\u00e7o\",\n      \"properties\": {\n        \"dtype\": \"number\",\n        \"std\": 787.0945075672901,\n        \"min\": 10.07,\n        \"max\": 3969.38,\n        \"num_unique_values\": 8800,\n        \"samples\": [\n          963.53,\n          40.8,\n          3168.26\n        ],\n        \"semantic_type\": \"\",\n        \"description\": \"\"\n      }\n    },\n    {\n      \"column\": \"Frete\",\n      \"properties\": {\n        \"dtype\": \"number\",\n        \"std\": 41.97371057943037,\n        \"min\": 0.0,\n        \"max\": 216.7076333964,\n        \"num_unique_values\": 8515,\n        \"samples\": [\n          17.7140610777,\n          7.1379912424,\n          30.3324656401\n        ],\n        \"semantic_type\": \"\",\n        \"description\": \"\"\n      }\n    },\n    {\n      \"column\": \"Data da Compra\",\n      \"properties\": {\n        \"dtype\": \"date\",\n        \"min\": \"01/01/2020\",\n        \"max\": \"31/12/2022\",\n        \"num_unique_values\": 1185,\n        \"samples\": [\n          \"15/04/2021\",\n          \"28/08/2021\",\n          \"17/05/2022\"\n        ],\n        \"semantic_type\": \"\",\n        \"description\": \"\"\n      }\n    },\n    {\n      \"column\": \"Vendedor\",\n      \"properties\": {\n        \"dtype\": \"category\",\n        \"num_unique_values\": 14,\n        \"samples\": [\n          \"Juliana Costa\",\n          \"Mariana Ferreira\",\n          \"Pedro Gomes\"\n        ],\n        \"semantic_type\": \"\",\n        \"description\": \"\"\n      }\n    },\n    {\n      \"column\": \"Local da compra\",\n      \"properties\": {\n        \"dtype\": \"category\",\n        \"num_unique_values\": 27,\n        \"samples\": [\n          \"TO\",\n          \"PI\",\n          \"PR\"\n        ],\n        \"semantic_type\": \"\",\n        \"description\": \"\"\n      }\n    },\n    {\n      \"column\": \"Avalia\\u00e7\\u00e3o da compra\",\n      \"properties\": {\n        \"dtype\": \"number\",\n        \"std\": 1,\n        \"min\": 1,\n        \"max\": 5,\n        \"num_unique_values\": 5,\n        \"samples\": [\n          1,\n          2,\n          5\n        ],\n        \"semantic_type\": \"\",\n        \"description\": \"\"\n      }\n    },\n    {\n      \"column\": \"Tipo de pagamento\",\n      \"properties\": {\n        \"dtype\": \"category\",\n        \"num_unique_values\": 4,\n        \"samples\": [\n          \"boleto\",\n          \"cartao_debito\",\n          \"cartao_credito\"\n        ],\n        \"semantic_type\": \"\",\n        \"description\": \"\"\n      }\n    },\n    {\n      \"column\": \"Quantidade de parcelas\",\n      \"properties\": {\n        \"dtype\": \"number\",\n        \"std\": 2,\n        \"min\": 1,\n        \"max\": 24,\n        \"num_unique_values\": 19,\n        \"samples\": [\n          8,\n          2,\n          14\n        ],\n        \"semantic_type\": \"\",\n        \"description\": \"\"\n      }\n    },\n    {\n      \"column\": \"lat\",\n      \"properties\": {\n        \"dtype\": \"number\",\n        \"std\": 5.399153200420811,\n        \"min\": -30.17,\n        \"max\": 1.99,\n        \"num_unique_values\": 27,\n        \"samples\": [\n          -9.46,\n          -6.6,\n          -24.89\n        ],\n        \"semantic_type\": \"\",\n        \"description\": \"\"\n      }\n    },\n    {\n      \"column\": \"lon\",\n      \"properties\": {\n        \"dtype\": \"number\",\n        \"std\": 4.1778870458167106,\n        \"min\": -70.55,\n        \"max\": -36.59,\n        \"num_unique_values\": 27,\n        \"samples\": [\n          -48.26,\n          -42.28,\n          -51.55\n        ],\n        \"semantic_type\": \"\",\n        \"description\": \"\"\n      }\n    },\n    {\n      \"column\": \"Loja\",\n      \"properties\": {\n        \"dtype\": \"category\",\n        \"num_unique_values\": 4,\n        \"samples\": [\n          \"loja 2\",\n          \"loja 4\",\n          \"loja 1\"\n        ],\n        \"semantic_type\": \"\",\n        \"description\": \"\"\n      }\n    }\n  ]\n}"
            }
          },
          "metadata": {},
          "execution_count": 52
        }
      ],
      "source": [
        "import pandas as pd\n",
        "import matplotlib.pyplot as plt\n",
        "import seaborn as sns\n",
        "\n",
        "url = \"https://raw.githubusercontent.com/alura-es-cursos/challenge1-data-science/refs/heads/main/base-de-dados-challenge-1/loja_1.csv\"\n",
        "url2 = \"https://raw.githubusercontent.com/alura-es-cursos/challenge1-data-science/refs/heads/main/base-de-dados-challenge-1/loja_2.csv\"\n",
        "url3 = \"https://raw.githubusercontent.com/alura-es-cursos/challenge1-data-science/refs/heads/main/base-de-dados-challenge-1/loja_3.csv\"\n",
        "url4 = \"https://raw.githubusercontent.com/alura-es-cursos/challenge1-data-science/refs/heads/main/base-de-dados-challenge-1/loja_4.csv\"\n",
        "\n",
        "loja1 = pd.read_csv(url)\n",
        "loja1['Loja'] = \"loja 1\"\n",
        "\n",
        "loja2 = pd.read_csv(url2)\n",
        "loja2['Loja'] = \"loja 2\"\n",
        "\n",
        "loja3 = pd.read_csv(url3)\n",
        "loja3['Loja'] = \"loja 3\"\n",
        "\n",
        "loja4 = pd.read_csv(url4)\n",
        "loja4['Loja'] = \"loja 4\"\n",
        "\n",
        "\n",
        "lojas = pd.concat([loja1, loja2, loja3, loja4])\n",
        "lojas.head(-1)"
      ]
    },
    {
      "cell_type": "markdown",
      "source": [
        "#1. Análise do faturamento\n"
      ],
      "metadata": {
        "id": "X62IW3KFUIYm"
      }
    },
    {
      "cell_type": "code",
      "source": [
        "print(lojas['Loja'].unique())\n"
      ],
      "metadata": {
        "id": "KDyr8E71V3m-",
        "colab": {
          "base_uri": "https://localhost:8080/"
        },
        "outputId": "1a55a2e4-c596-463e-fcce-33bcf2a630e7"
      },
      "execution_count": 53,
      "outputs": [
        {
          "output_type": "stream",
          "name": "stdout",
          "text": [
            "['loja 1' 'loja 2' 'loja 3' 'loja 4']\n"
          ]
        }
      ]
    },
    {
      "cell_type": "markdown",
      "source": [
        "Código abaixo cria uma lista chamada faturamentos, onde cada item representa o faturamento total (soma dos preços) de uma loja específica, com base nos dados do DataFrame."
      ],
      "metadata": {
        "id": "S-0RXE9N3_un"
      }
    },
    {
      "cell_type": "code",
      "source": [
        "faturamentos = [\n",
        "    float(lojas[lojas['Loja'] == loja]['Preço'].sum())\n",
        "    for loja in lojas['Loja'].unique()\n",
        "]\n",
        "\n",
        "for loja, faturamento in zip(lojas['Loja'].unique(), faturamentos):\n",
        "    print(f\"{loja}: Faturamento total de R$ {faturamento:,.2f}\")"
      ],
      "metadata": {
        "colab": {
          "base_uri": "https://localhost:8080/"
        },
        "id": "Zg3N50WoYj_M",
        "outputId": "ad49f82c-9cd7-4d05-84b1-7fefeed446dc"
      },
      "execution_count": 70,
      "outputs": [
        {
          "output_type": "stream",
          "name": "stdout",
          "text": [
            "loja 1: Faturamento total de R$ 1,534,509.12\n",
            "loja 2: Faturamento total de R$ 1,488,459.06\n",
            "loja 3: Faturamento total de R$ 1,464,025.03\n",
            "loja 4: Faturamento total de R$ 1,384,497.58\n"
          ]
        }
      ]
    },
    {
      "cell_type": "code",
      "source": [
        "lojas_nomes = lojas['Loja'].unique()\n",
        "\n",
        "\n",
        "plt.bar(lojas_nomes, faturamentos,)\n",
        "plt.title('Faturamento por Loja')\n",
        "plt.xlabel('Lojas')\n",
        "plt.ylabel('Faturamento (R$)')\n",
        "\n",
        "plt.show()\n",
        "\n"
      ],
      "metadata": {
        "colab": {
          "base_uri": "https://localhost:8080/",
          "height": 472
        },
        "id": "wX6h-uCznrUo",
        "outputId": "041f1d50-4840-4ade-a110-61b516ba2cea"
      },
      "execution_count": 8,
      "outputs": [
        {
          "output_type": "display_data",
          "data": {
            "text/plain": [
              "<Figure size 640x480 with 1 Axes>"
            ],
            "image/png": "[encoded data removed]"
          },
          "metadata": {}
        }
      ]
    },
    {
      "cell_type": "markdown",
      "source": [
        "Relatório de Faturamento por Loja\n",
        "Com base na análise dos dados de vendas presentes no DataFrame(lista de jojas), foi reralizado calculado do faturamento total de cada loja a partir da soma dos valores da coluna \"Preço\". O resultado da análise indicou a seguinte  desempenho de faturamento:\n",
        "\n",
        "Análise Gráfica:\n",
        "A partir da observação do gráfico de barras, apresentam as seguinte indicadores de faturamnetos.\n",
        "\n",
        "Loja 1: Apresentou o maior faturamento entre todas as unidades.\n",
        "\n",
        "Loja 2: Ficou em segundo lugar.\n",
        "\n",
        "Loja 3: Registrou um faturamento mais modesto.\n",
        "\n",
        "Loja 4: Teve o menor faturamento entre todas as lojas analisadas.\n",
        "\n"
      ],
      "metadata": {
        "id": "179EoLYlghCC"
      }
    },
    {
      "cell_type": "markdown",
      "source": [
        "# 2. Vendas por Categoria\n"
      ],
      "metadata": {
        "id": "2V_vcAPzWZmR"
      }
    },
    {
      "cell_type": "code",
      "source": [
        "print(lojas['Loja'].unique())"
      ],
      "metadata": {
        "id": "A34YupIuYhfF",
        "colab": {
          "base_uri": "https://localhost:8080/"
        },
        "outputId": "02edbf64-5e44-4e6e-9f30-0fc0a3816527"
      },
      "execution_count": 9,
      "outputs": [
        {
          "output_type": "stream",
          "name": "stdout",
          "text": [
            "['loja 1' 'loja 2' 'loja 3' 'loja 4']\n"
          ]
        }
      ]
    },
    {
      "cell_type": "markdown",
      "source": [
        "O codigo abaixo tem por finalidade os produtos existem em cada categoria para cada loja presente no DataFrame (lojas)."
      ],
      "metadata": {
        "id": "A_O0Xq9ekFxY"
      }
    },
    {
      "cell_type": "code",
      "source": [
        "\n",
        "\n",
        "lojas_unicas = lojas['Loja'].unique()\n",
        "\n",
        "\n",
        "categorias_por_loja = []\n",
        "\n",
        "for loja_nome in lojas_unicas:\n",
        "\n",
        "    loja_filtrada = lojas[lojas['Loja'] == loja_nome]\n",
        "\n",
        "    categorias_unicas = loja_filtrada['Categoria do Produto'].unique()\n",
        "\n",
        "    contagem_categoria = {}\n",
        "\n",
        "    for categoria in categorias_unicas:\n",
        "\n",
        "        quantidade = sum(loja_filtrada['Categoria do Produto'] == categoria)\n",
        "        contagem_categoria[categoria] = quantidade\n",
        "\n",
        "    categorias_por_loja.append(contagem_categoria)\n"
      ],
      "metadata": {
        "id": "xqrHOZraqj-A"
      },
      "execution_count": 10,
      "outputs": []
    },
    {
      "cell_type": "markdown",
      "source": [
        "Código abaixo exibe no console um resumo das categorias de produtos mais vendidas por loja, com base no codigo criada anteriormente usansdo os parametros (lojas_unicas e categorias_por_loja)."
      ],
      "metadata": {
        "id": "ubnR1l8qkA_R"
      }
    },
    {
      "cell_type": "code",
      "source": [
        "for loja, categorias in zip(lojas_unicas, categorias_por_loja):\n",
        "    print(f\"\\nCategorias mais vendidas - {loja}\")\n",
        "\n",
        "    for categoria, quantidade in categorias.items():\n",
        "        print(f\"  - {categoria}: {quantidade} vendas\")"
      ],
      "metadata": {
        "colab": {
          "base_uri": "https://localhost:8080/"
        },
        "id": "29UUnMoquydz",
        "outputId": "54ac4df7-5518-4503-e3de-19f1e37b9605"
      },
      "execution_count": 11,
      "outputs": [
        {
          "output_type": "stream",
          "name": "stdout",
          "text": [
            "\n",
            "Categorias mais vendidas - loja 1\n",
            "  - eletronicos: 448 vendas\n",
            "  - moveis: 465 vendas\n",
            "  - brinquedos: 324 vendas\n",
            "  - eletrodomesticos: 312 vendas\n",
            "  - utilidades domesticas: 171 vendas\n",
            "  - esporte e lazer: 284 vendas\n",
            "  - livros: 173 vendas\n",
            "  - instrumentos musicais: 182 vendas\n",
            "\n",
            "Categorias mais vendidas - loja 2\n",
            "  - moveis: 442 vendas\n",
            "  - instrumentos musicais: 224 vendas\n",
            "  - esporte e lazer: 275 vendas\n",
            "  - eletronicos: 422 vendas\n",
            "  - utilidades domesticas: 181 vendas\n",
            "  - brinquedos: 313 vendas\n",
            "  - eletrodomesticos: 305 vendas\n",
            "  - livros: 197 vendas\n",
            "\n",
            "Categorias mais vendidas - loja 3\n",
            "  - eletrodomesticos: 278 vendas\n",
            "  - moveis: 499 vendas\n",
            "  - instrumentos musicais: 177 vendas\n",
            "  - esporte e lazer: 277 vendas\n",
            "  - eletronicos: 451 vendas\n",
            "  - brinquedos: 315 vendas\n",
            "  - utilidades domesticas: 177 vendas\n",
            "  - livros: 185 vendas\n",
            "\n",
            "Categorias mais vendidas - loja 4\n",
            "  - eletrodomesticos: 254 vendas\n",
            "  - moveis: 480 vendas\n",
            "  - esporte e lazer: 277 vendas\n",
            "  - livros: 187 vendas\n",
            "  - eletronicos: 451 vendas\n",
            "  - instrumentos musicais: 170 vendas\n",
            "  - brinquedos: 338 vendas\n",
            "  - utilidades domesticas: 201 vendas\n"
          ]
        }
      ]
    },
    {
      "cell_type": "markdown",
      "source": [
        " Código com biblioteca Seaborn - gráfico unico agrupado por categoria e loja"
      ],
      "metadata": {
        "id": "Pe6iGxz0lIFD"
      }
    },
    {
      "cell_type": "code",
      "source": [
        "dados_grafico = []\n",
        "\n",
        "for loja_nome, categorias_dict in zip(lojas_unicas, categorias_por_loja):\n",
        "    for categoria, quantidade in categorias_dict.items():\n",
        "        dados_grafico.append({\n",
        "            'Loja': loja_nome,\n",
        "            'Categoria': categoria,\n",
        "            'Quantidade Vendida': quantidade\n",
        "        })\n",
        "\n",
        "df_grafico = pd.DataFrame(dados_grafico)\n",
        "\n",
        "plt.figure(figsize=(12, 6))\n",
        "sns.barplot(data=df_grafico, x='Categoria', y='Quantidade Vendida', hue='Loja')\n",
        "\n",
        "\n",
        "plt.title('Vendas por Categoria e Loja')\n",
        "plt.xlabel('Categoria do Produto')\n",
        "plt.ylabel('Quantidade Vendida')\n",
        "plt.xticks(rotation=45, ha='right')\n",
        "plt.legend(title='Loja')\n",
        "plt.tight_layout()\n",
        "plt.show()"
      ],
      "metadata": {
        "colab": {
          "base_uri": "https://localhost:8080/",
          "height": 607
        },
        "id": "lODEbef7rru7",
        "outputId": "c3b1267a-cd16-4908-cfb4-4405a110b376"
      },
      "execution_count": 13,
      "outputs": [
        {
          "output_type": "display_data",
          "data": {
            "text/plain": [
              "<Figure size 1200x600 with 1 Axes>"
            ],
            "image/png": "[encoded data removed]"
          },
          "metadata": {}
        }
      ]
    },
    {
      "cell_type": "markdown",
      "source": [
        "Relatório de cada categorias de drodutos Mmis e menos vendidos com base no grafico\n",
        "\n",
        "Categorias Mais Vendidas:\n",
        "Móveis - mais vendido em todas as lojas, apresenta as maiores barras no gráfico, ultrapassando 400 vendas em cada loja.\n",
        "\n",
        "Eletrônicos - Segunda categoria mais volume de vendas ficando acima dos 400.\n",
        "\n",
        "Brinquedos - teve um bom volume de venda, principalmente na Loja 4. ficandop acima dos 300.\n",
        "\n",
        "Categorias Menos Vendidas:\n",
        "\n",
        "Utilidades Domésticas - Menores barras no gráfico na maioria das lojas.\n",
        "\n",
        "Instrumentos Musicais- apresentou um baixo volume de vendas.\n",
        "\n",
        "Livros -Categoria com vendas modestas."
      ],
      "metadata": {
        "id": "fkvl3KHHlR_e"
      }
    },
    {
      "cell_type": "markdown",
      "source": [
        "# 3. Média de Avaliação das Lojas"
      ],
      "metadata": {
        "id": "Rq6tU_xSY3jk"
      }
    },
    {
      "cell_type": "markdown",
      "source": [
        "Código abaixo tem como objetivo calcular a média das avaliações de compra por loja."
      ],
      "metadata": {
        "id": "m4Ev3tsInrOp"
      }
    },
    {
      "cell_type": "code",
      "source": [
        "lojas_unicas = lojas['Loja'].unique()\n",
        "\n",
        "medias_avaliacoes = []\n",
        "\n",
        "for loja_nome in lojas_unicas:\n",
        "\n",
        "    loja_filtrada = lojas[lojas['Loja'] == loja_nome]\n",
        "\n",
        "    soma_avaliacoes = sum(loja_filtrada['Avaliação da compra'])\n",
        "\n",
        "    total_avaliacoes = len(loja_filtrada['Avaliação da compra'])\n",
        "\n",
        "    media = soma_avaliacoes / total_avaliacoes if total_avaliacoes > 0 else 0\n",
        "\n",
        "    medias_avaliacoes.append(round(media, 2))\n"
      ],
      "metadata": {
        "id": "Lyu5_oa5Sn7q"
      },
      "execution_count": 15,
      "outputs": []
    },
    {
      "cell_type": "markdown",
      "source": [
        "Código abaixo tem o objetivo de exibir as médias de avaliações para cada loja."
      ],
      "metadata": {
        "id": "nhonM1Btn47o"
      }
    },
    {
      "cell_type": "code",
      "source": [
        "for loja, media in zip(lojas_unicas, medias_avaliacoes):\n",
        "    print(f\" Média de avaliações - {loja}: {media}\")"
      ],
      "metadata": {
        "colab": {
          "base_uri": "https://localhost:8080/"
        },
        "id": "tWYS2EmMutLk",
        "outputId": "80cc39d2-4d22-4710-b1da-c1c223180f64"
      },
      "execution_count": 16,
      "outputs": [
        {
          "output_type": "stream",
          "name": "stdout",
          "text": [
            " Média de avaliações - loja 1: 3.98\n",
            " Média de avaliações - loja 2: 4.04\n",
            " Média de avaliações - loja 3: 4.05\n",
            " Média de avaliações - loja 4: 4.0\n"
          ]
        }
      ]
    },
    {
      "cell_type": "markdown",
      "source": [
        " Código com biblioteca Seaborn - Calculo média das avaliações de clientes por loja."
      ],
      "metadata": {
        "id": "hLuePxT9pose"
      }
    },
    {
      "cell_type": "code",
      "source": [
        "\n",
        "dados = {\n",
        "    'Loja': lojas_unicas,\n",
        "    'Média de Avaliação': medias_avaliacoes\n",
        "}\n",
        "\n",
        "plt.figure(figsize=(8, 5))\n",
        "sns.barplot(data=df, y='Loja', x='Média de Avaliação', hue='Loja', palette='Blues_d', legend=False)\n",
        "\n",
        "plt.title('Média de Avaliações por Loja', fontsize=16)\n",
        "plt.xlabel('Média de Avaliação', fontsize=12)\n",
        "plt.ylabel('Lojas', fontsize=12)\n",
        "\n",
        "plt.show()"
      ],
      "metadata": {
        "colab": {
          "base_uri": "https://localhost:8080/",
          "height": 495
        },
        "id": "dgudOT0wuAxo",
        "outputId": "65c21c16-7fc1-49f6-9020-cdc143175223"
      },
      "execution_count": 23,
      "outputs": [
        {
          "output_type": "display_data",
          "data": {
            "text/plain": [
              "<Figure size 800x500 with 1 Axes>"
            ],
            "image/png": "[encoded data removed]"
          },
          "metadata": {}
        }
      ]
    },
    {
      "cell_type": "markdown",
      "source": [
        "Análise do grafico de médias da avaliação:\n",
        "\n",
        "Loja 3 - apresenta a maior média de avaliações (4.05), o que indica uma experiência do cliente mais positiva em relação ao outras lojas.\n",
        "\n",
        "Loja 2 - apresenta a media de avaliação (4.04), mostrando um bom nível de satisfação dos clientes. prerecido com a loja 1.\n",
        "\n",
        "Loja 4 - apresenta uma média de avaliação (4.00), mantendo uma avaliação positiva, porém com leve diferença em relação às outras.\n",
        "\n",
        "Loja 1 - tem a média mais baixa (3.98), sugerindo que há algum espaço para melhorias."
      ],
      "metadata": {
        "id": "EeUBoEcGoadV"
      }
    },
    {
      "cell_type": "markdown",
      "source": [
        "# 4. Produtos Mais e Menos Vendidos"
      ],
      "metadata": {
        "id": "DmNp1KPBZCm-"
      }
    },
    {
      "cell_type": "markdown",
      "source": [
        "O código abaixo tem como objetivo identificar os produtos mais vendidos e menos vendidos em cada loja."
      ],
      "metadata": {
        "id": "zwNv27xSq3Cc"
      }
    },
    {
      "cell_type": "code",
      "source": [
        "lojas_unicas = lojas['Loja'].unique()\n",
        "mais_vendidos = []\n",
        "menos_vendidos = []\n",
        "\n",
        "for loja in lojas_unicas:\n",
        "    dados_loja = lojas[lojas['Loja'] == loja]\n",
        "    produtos = dados_loja['Produto'].unique()\n",
        "\n",
        "    contagens = [sum(dados_loja['Produto'] == p) for p in produtos]\n",
        "\n",
        "    max_index = contagens.index(max(contagens))\n",
        "    min_index = contagens.index(min(contagens))\n",
        "\n",
        "    mais_vendidos.append((loja, produtos[max_index], contagens[max_index]))\n",
        "    menos_vendidos.append((loja, produtos[min_index], contagens[min_index]))\n"
      ],
      "metadata": {
        "id": "X77G7z5rTCGY"
      },
      "execution_count": 24,
      "outputs": []
    },
    {
      "cell_type": "markdown",
      "source": [
        "O código abaixo exibe os produtos mais vendidos e menos vendidos de cada loja."
      ],
      "metadata": {
        "id": "OJpmauFMrKB-"
      }
    },
    {
      "cell_type": "code",
      "source": [
        "print(\"Mais vendidos:\")\n",
        "for loja, produto, qtd in mais_vendidos:\n",
        "    print(f\"{loja} -> {produto} ({qtd} vendas)\")\n",
        "\n",
        "print(\"\\nMenos vendidos:\")\n",
        "for loja, produto, qtd in menos_vendidos:\n",
        "    print(f\"{loja} -> {produto} ({qtd} venda{'s' if qtd > 1 else ''})\")"
      ],
      "metadata": {
        "id": "qoyjqijQZHfF",
        "colab": {
          "base_uri": "https://localhost:8080/"
        },
        "outputId": "cb2351e2-8321-4ac3-ba3f-533907e5f553"
      },
      "execution_count": 37,
      "outputs": [
        {
          "output_type": "stream",
          "name": "stdout",
          "text": [
            "Mais vendidos:\n",
            "loja 1 -> Micro-ondas (60 vendas)\n",
            "loja 2 -> Iniciando em programação (65 vendas)\n",
            "loja 3 -> Kit banquetas (57 vendas)\n",
            "loja 4 -> Cama box (62 vendas)\n",
            "\n",
            "Menos vendidos:\n",
            "loja 1 -> Headset (33 vendas)\n",
            "loja 2 -> Jogo de tabuleiro (32 vendas)\n",
            "loja 3 -> Blocos de montar (35 vendas)\n",
            "loja 4 -> Guitarra (33 vendas)\n"
          ]
        }
      ]
    },
    {
      "cell_type": "markdown",
      "source": [
        "Gráfico feito usando a biblioteca Matplotlib."
      ],
      "metadata": {
        "id": "Lo7vvmHAukn9"
      }
    },
    {
      "cell_type": "code",
      "source": [
        "lojas = ['Loja 1', 'Loja 2', 'Loja 3', 'Loja 4']\n",
        "produtos_mais = ['Micro-ondas', 'Iniciando em programação', 'Kit banquetas', 'Cama box']\n",
        "vendas_mais = [60, 65, 57, 62]\n",
        "\n",
        "produtos_menos = ['Headset', 'Jogo de tabuleiro', 'Blocos de montar', 'Guitarra']\n",
        "vendas_menos = [33, 32, 35, 33]\n",
        "\n",
        "x = np.arange(len(lojas))\n",
        "largura = 0.35\n",
        "\n",
        "\n",
        "plt.figure(figsize=(12, 6))\n",
        "plt.bar(x - largura/2, vendas_mais, width=largura, label='Mais vendidos', color='green')\n",
        "plt.bar(x + largura/2, vendas_menos, width=largura, label='Menos vendidos', color='red')\n",
        "\n",
        "\n",
        "for i in range(len(lojas)):\n",
        "    plt.text(x[i] - largura/2, vendas_mais[i] + 1, produtos_mais[i], ha='center', fontsize=8, rotation=45)\n",
        "    plt.text(x[i] + largura/2, vendas_menos[i] + 1, produtos_menos[i], ha='center', fontsize=8, rotation=45)\n",
        "\n",
        "plt.title('Mais e Menos Vendidos por Loja')\n",
        "plt.xlabel('Loja')\n",
        "plt.ylabel('Quantidade de Vendas')\n",
        "plt.xticks(x, lojas)\n",
        "plt.legend()\n",
        "plt.tight_layout()\n",
        "plt.show()"
      ],
      "metadata": {
        "colab": {
          "base_uri": "https://localhost:8080/",
          "height": 608
        },
        "id": "OTrMF3SFu51H",
        "outputId": "611a19a5-4afc-4432-a35e-863436650881"
      },
      "execution_count": 43,
      "outputs": [
        {
          "output_type": "display_data",
          "data": {
            "text/plain": [
              "<Figure size 1200x600 with 1 Axes>"
            ],
            "image/png": "[encoded data removed]"
          },
          "metadata": {}
        }
      ]
    },
    {
      "cell_type": "markdown",
      "source": [
        "Com base no gráfico produtos mais e menos vendidos por Loja\n",
        "\n",
        "PProdutos Mais Vendidos:\n",
        "\n",
        "Loja 1 - Micro-ondas com 60 vendas.\n",
        "\n",
        "Loja 2 - Iniciando em programação foi o produto mais procurado, com 65 vendas.\n",
        "\n",
        "Loja 3 - Kit banquetas teve 57 vendas.\n",
        "\n",
        "Loja 4 - Cama box foi o destaque, com 62 vendas.\n",
        "\n",
        "rodutos Menos Vendidos:\n",
        "Loja 1 - Headset registrou apenas 33 vendas, o menor desempenho da loja.\n",
        "\n",
        "Loja 2 - Jogo de tabuleiro teve o menor número de saídas, com 32 vendas.\n",
        "\n",
        "Loja 3 - Blocos de montar somou 35, vendas o menor desempenho da loja.\n",
        "\n",
        "Loja 4 = Guitarra obteve 33 vendas,o menor desempenho da loja."
      ],
      "metadata": {
        "id": "aHQ5qVbVvAiC"
      }
    },
    {
      "cell_type": "markdown",
      "source": [
        "# 5. Frete Médio por Loja\n"
      ],
      "metadata": {
        "id": "Fl0cGi3bZKqU"
      }
    },
    {
      "cell_type": "markdown",
      "source": [
        "Código abaixo calcula o frete médio para cada loja"
      ],
      "metadata": {
        "id": "k_sWeBa49dB-"
      }
    },
    {
      "cell_type": "code",
      "source": [
        "lojas_unicas = lojas['Loja'].unique()\n",
        "\n",
        "fretes_medios = []\n",
        "\n",
        "for loja in lojas_unicas:\n",
        "    dados_loja = lojas[lojas['Loja'] == loja]\n",
        "    media_frete = sum(dados_loja['Frete']) / len(dados_loja)\n",
        "    fretes_medios.append(round(media_frete, 2))"
      ],
      "metadata": {
        "id": "S2JeaCykZNy9"
      },
      "execution_count": 54,
      "outputs": []
    },
    {
      "cell_type": "markdown",
      "source": [
        "Código abaixo imprime o frete médio de cada loja, formatando o valor com duas casas decimais."
      ],
      "metadata": {
        "id": "319dmRoSySQB"
      }
    },
    {
      "cell_type": "code",
      "source": [
        "for loja, frete in zip(lojas_unicas, fretes_medios):\n",
        "    print(f\"{loja}: Frete médio R$ {frete:.2f}\")"
      ],
      "metadata": {
        "colab": {
          "base_uri": "https://localhost:8080/"
        },
        "id": "3EE3RDvXwUrB",
        "outputId": "372595d6-2b78-4124-bd4d-039b89e91623"
      },
      "execution_count": 55,
      "outputs": [
        {
          "output_type": "stream",
          "name": "stdout",
          "text": [
            "loja 1: Frete médio R$ 34.69\n",
            "loja 2: Frete médio R$ 33.62\n",
            "loja 3: Frete médio R$ 33.07\n",
            "loja 4: Frete médio R$ 31.28\n"
          ]
        }
      ]
    },
    {
      "cell_type": "code",
      "source": [
        "sns.lineplot(data=df_fretes, x='Loja', y='Frete Médio', marker='o')\n",
        "\n",
        "plt.title(\"Frete Médio por Loja\")\n",
        "plt.xlabel(\"Loja\")\n",
        "plt.ylabel(\"Frete Médio\")\n",
        "plt.show()"
      ],
      "metadata": {
        "colab": {
          "base_uri": "https://localhost:8080/",
          "height": 472
        },
        "id": "HQGoXJBzwW-D",
        "outputId": "9e1aed57-94ac-4552-f35f-518db3765744"
      },
      "execution_count": 69,
      "outputs": [
        {
          "output_type": "display_data",
          "data": {
            "text/plain": [
              "<Figure size 640x480 with 1 Axes>"
            ],
            "image/png": "[encoded data removed]"
          },
          "metadata": {}
        }
      ]
    },
    {
      "cell_type": "markdown",
      "source": [
        "Com base no grafico acima - Frete Médio por Loja\n",
        "\n",
        "Frete médio para cada loja, os resultados são os seguintes:\n",
        "\n",
        "Loja 1 - O frete médio foi de R$ 34,69.\n",
        "Apresenta o maior frete médio o que pode indicar custos de envio mais elevados.\n",
        "\n",
        "Loja 2 - O frete médio foi de R$ 33,62.\n",
        "Mmenor frete médio, indica o envio mais eficientes ou menores custos.\n",
        "\n",
        "Loja 3 - O frete médio foi de R$ 33,07.\n",
        "presenta custo médio baixo dos fretes o que pode indicar ser a loja vantajosa em relação a o frete.\n",
        "\n",
        "Loja 4 - O frete médio foi de R$ 31,28.\n",
        "Apresenta o menor custo médio dos fretes o que pode indicar ser a loja mais vantajosa em relação a o frete.\n",
        "\n",
        "\n",
        "\n"
      ],
      "metadata": {
        "id": "EhFOw6Gy0gRn"
      }
    },
    {
      "cell_type": "markdown",
      "source": [
        "# Relatório Final"
      ],
      "metadata": {
        "id": "ig3C761B0jdE"
      }
    },
    {
      "cell_type": "markdown",
      "source": [
        "Após realizar uma análise detalhada sobre as quatro lojas do Senhor João, levando em consideração diversos fatores como faturamento, categorias de produtos mais e menos vendidas, média das avaliações dos clientes, produtos mais e menos vendidos e frete médio,\n",
        "\n",
        "**Faturamento Total por Loja**\n",
        "\n",
        "O faturamento total de cada loja:\n",
        "\n",
        "Loja 1: R$ 1.534.509,12\n",
        "\n",
        "Loja 2: R$ 1.488.459,06\n",
        "\n",
        "Loja 3: R$ 1.464.025,03\n",
        "\n",
        "Loja 4: R$ 1.384.497,58\n",
        "\n",
        "Conclusão - A Loja 1 apresenta o maior faturamento, seguida pela Loja 2, Loja 3 e Loja 4.\n",
        "\n",
        "**Categorias de Produtos Mais e Menos Vendidas**\n",
        "\n",
        "A análise das categorias mais e menos vendidas por loja revelou as preferências, categorias mais vendidas em todas as lojas, eletrônicos e móveis lideram. Enquanto nas menos vendidas, categorias como instrumentos musicais e livros.\n",
        "\n",
        "Conclusão - É importante focar nas categorias de eletrônicos e móveis.\n",
        "\n",
        " **Média de Avaliações de Clientes**\n",
        "\n",
        "As médias de avaliações de clientes por loja são as seguintes:\n",
        "\n",
        "Loja 1: 3.98\n",
        "\n",
        "Loja 2: 4.04\n",
        "\n",
        "Loja 3: 4.05\n",
        "\n",
        "Loja 4: 4.0\n",
        "\n",
        "Conclusão - A Loja 3 apresenta a maior média de avaliação, o que indica uma boa satisfação dos clientes. Loja 2 também apresenta uma boa avaliação, tornando-a uma boa opção, loja um com menor nivel de avalição, porem loja 1 possui maior nivel de vendas e faturamento o que esta proporcinal com demais lojas.\n",
        "\n",
        "**Produtos Mais e Menos Vendidos**\n",
        "\n",
        "Analisando os produtos mais e menos vendidos por loja, notamos que os produtos mais vendidos são itens como micro-ondas, iniciando em programação, kit banquetas e cama box, enquanto os menos vendidos são headset, jogo de tabuleiro, blocos de montar e guitarra.\n",
        "\n",
        "Conclusão: loja 2 teve o maior indice de venda de um produto seguido pela loja 1, depois loja 4 por ultimo loja 3.\n",
        "\n",
        "**Frete Médio por Loja**\n",
        "\n",
        "O frete médio de cada loja são os seguintes valores:\n",
        "\n",
        "Loja 1 - R$ 34.69\n",
        "\n",
        "Loja 2 - R$ 33.62\n",
        "\n",
        "Loja 3 - R$ 33.07\n",
        "\n",
        "Loja 4 - R$ 31.28\n",
        "\n",
        "Conclusão: A Loja 4 tem o menor frete médio, o que pode ser um fator positivo,\n",
        "\n",
        "\n",
        "**Conclusão final**\n",
        "\n",
        "A Loja 1 se destaca principalmente pelo faturamento, a Loja 4 é a opção que João deve vender, pois teve o menor faturamento (R$ 1.384.497,58) e também apresenta menores vendas em algumas categorias."
      ],
      "metadata": {
        "id": "QI43QDoW4Z43"
      }
    }
  ]
}